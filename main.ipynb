{
  "nbformat": 4,
  "nbformat_minor": 0,
  "metadata": {
    "colab": {
      "provenance": [],
      "include_colab_link": true
    },
    "kernelspec": {
      "name": "python3",
      "display_name": "Python 3"
    },
    "language_info": {
      "name": "python"
    }
  },
  "cells": [
    {
      "cell_type": "markdown",
      "metadata": {
        "id": "view-in-github",
        "colab_type": "text"
      },
      "source": [
        "<a href=\"https://colab.research.google.com/github/YigitDemirsan/Enhancing-Big-Data-Access-Control-A-GCN-Based-Link-Prediction-Model/blob/main/CS550_Project_2.ipynb\" target=\"_parent\"><img src=\"https://colab.research.google.com/assets/colab-badge.svg\" alt=\"Open In Colab\"/></a>"
      ]
    },
    {
      "cell_type": "markdown",
      "source": [
        "# CS550 Project-2"
      ],
      "metadata": {
        "id": "jBgU5VTmE31_"
      }
    },
    {
      "cell_type": "code",
      "source": [
        "!python --version\n",
        "!pip install umap-learn matplotlib seaborn tensorflow\n",
        "!pip install torch-scatter torch-sparse torch-cluster torch-spline-conv torch-geometric\n"
      ],
      "metadata": {
        "colab": {
          "base_uri": "https://localhost:8080/"
        },
        "id": "6AxYmkIOOaHG",
        "outputId": "631beff6-5ef5-41b0-90a2-b10b10d8055a"
      },
      "execution_count": null,
      "outputs": [
        {
          "output_type": "stream",
          "name": "stdout",
          "text": [
            "Python 3.10.12\n",
            "Requirement already satisfied: umap-learn in /usr/local/lib/python3.10/dist-packages (0.5.5)\n",
            "Requirement already satisfied: matplotlib in /usr/local/lib/python3.10/dist-packages (3.7.1)\n",
            "Requirement already satisfied: seaborn in /usr/local/lib/python3.10/dist-packages (0.12.2)\n",
            "Requirement already satisfied: tensorflow in /usr/local/lib/python3.10/dist-packages (2.15.0)\n",
            "Requirement already satisfied: numpy>=1.17 in /usr/local/lib/python3.10/dist-packages (from umap-learn) (1.23.5)\n",
            "Requirement already satisfied: scipy>=1.3.1 in /usr/local/lib/python3.10/dist-packages (from umap-learn) (1.11.4)\n",
            "Requirement already satisfied: scikit-learn>=0.22 in /usr/local/lib/python3.10/dist-packages (from umap-learn) (1.2.2)\n",
            "Requirement already satisfied: numba>=0.51.2 in /usr/local/lib/python3.10/dist-packages (from umap-learn) (0.58.1)\n",
            "Requirement already satisfied: pynndescent>=0.5 in /usr/local/lib/python3.10/dist-packages (from umap-learn) (0.5.11)\n",
            "Requirement already satisfied: tqdm in /usr/local/lib/python3.10/dist-packages (from umap-learn) (4.66.1)\n",
            "Requirement already satisfied: contourpy>=1.0.1 in /usr/local/lib/python3.10/dist-packages (from matplotlib) (1.2.0)\n",
            "Requirement already satisfied: cycler>=0.10 in /usr/local/lib/python3.10/dist-packages (from matplotlib) (0.12.1)\n",
            "Requirement already satisfied: fonttools>=4.22.0 in /usr/local/lib/python3.10/dist-packages (from matplotlib) (4.47.0)\n",
            "Requirement already satisfied: kiwisolver>=1.0.1 in /usr/local/lib/python3.10/dist-packages (from matplotlib) (1.4.5)\n",
            "Requirement already satisfied: packaging>=20.0 in /usr/local/lib/python3.10/dist-packages (from matplotlib) (23.2)\n",
            "Requirement already satisfied: pillow>=6.2.0 in /usr/local/lib/python3.10/dist-packages (from matplotlib) (9.4.0)\n",
            "Requirement already satisfied: pyparsing>=2.3.1 in /usr/local/lib/python3.10/dist-packages (from matplotlib) (3.1.1)\n",
            "Requirement already satisfied: python-dateutil>=2.7 in /usr/local/lib/python3.10/dist-packages (from matplotlib) (2.8.2)\n",
            "Requirement already satisfied: pandas>=0.25 in /usr/local/lib/python3.10/dist-packages (from seaborn) (1.5.3)\n",
            "Requirement already satisfied: absl-py>=1.0.0 in /usr/local/lib/python3.10/dist-packages (from tensorflow) (1.4.0)\n",
            "Requirement already satisfied: astunparse>=1.6.0 in /usr/local/lib/python3.10/dist-packages (from tensorflow) (1.6.3)\n",
            "Requirement already satisfied: flatbuffers>=23.5.26 in /usr/local/lib/python3.10/dist-packages (from tensorflow) (23.5.26)\n",
            "Requirement already satisfied: gast!=0.5.0,!=0.5.1,!=0.5.2,>=0.2.1 in /usr/local/lib/python3.10/dist-packages (from tensorflow) (0.5.4)\n",
            "Requirement already satisfied: google-pasta>=0.1.1 in /usr/local/lib/python3.10/dist-packages (from tensorflow) (0.2.0)\n",
            "Requirement already satisfied: h5py>=2.9.0 in /usr/local/lib/python3.10/dist-packages (from tensorflow) (3.9.0)\n",
            "Requirement already satisfied: libclang>=13.0.0 in /usr/local/lib/python3.10/dist-packages (from tensorflow) (16.0.6)\n",
            "Requirement already satisfied: ml-dtypes~=0.2.0 in /usr/local/lib/python3.10/dist-packages (from tensorflow) (0.2.0)\n",
            "Requirement already satisfied: opt-einsum>=2.3.2 in /usr/local/lib/python3.10/dist-packages (from tensorflow) (3.3.0)\n",
            "Requirement already satisfied: protobuf!=4.21.0,!=4.21.1,!=4.21.2,!=4.21.3,!=4.21.4,!=4.21.5,<5.0.0dev,>=3.20.3 in /usr/local/lib/python3.10/dist-packages (from tensorflow) (3.20.3)\n",
            "Requirement already satisfied: setuptools in /usr/local/lib/python3.10/dist-packages (from tensorflow) (67.7.2)\n",
            "Requirement already satisfied: six>=1.12.0 in /usr/local/lib/python3.10/dist-packages (from tensorflow) (1.16.0)\n",
            "Requirement already satisfied: termcolor>=1.1.0 in /usr/local/lib/python3.10/dist-packages (from tensorflow) (2.4.0)\n",
            "Requirement already satisfied: typing-extensions>=3.6.6 in /usr/local/lib/python3.10/dist-packages (from tensorflow) (4.5.0)\n",
            "Requirement already satisfied: wrapt<1.15,>=1.11.0 in /usr/local/lib/python3.10/dist-packages (from tensorflow) (1.14.1)\n",
            "Requirement already satisfied: tensorflow-io-gcs-filesystem>=0.23.1 in /usr/local/lib/python3.10/dist-packages (from tensorflow) (0.35.0)\n",
            "Requirement already satisfied: grpcio<2.0,>=1.24.3 in /usr/local/lib/python3.10/dist-packages (from tensorflow) (1.60.0)\n",
            "Requirement already satisfied: tensorboard<2.16,>=2.15 in /usr/local/lib/python3.10/dist-packages (from tensorflow) (2.15.1)\n",
            "Requirement already satisfied: tensorflow-estimator<2.16,>=2.15.0 in /usr/local/lib/python3.10/dist-packages (from tensorflow) (2.15.0)\n",
            "Requirement already satisfied: keras<2.16,>=2.15.0 in /usr/local/lib/python3.10/dist-packages (from tensorflow) (2.15.0)\n",
            "Requirement already satisfied: wheel<1.0,>=0.23.0 in /usr/local/lib/python3.10/dist-packages (from astunparse>=1.6.0->tensorflow) (0.42.0)\n",
            "Requirement already satisfied: llvmlite<0.42,>=0.41.0dev0 in /usr/local/lib/python3.10/dist-packages (from numba>=0.51.2->umap-learn) (0.41.1)\n",
            "Requirement already satisfied: pytz>=2020.1 in /usr/local/lib/python3.10/dist-packages (from pandas>=0.25->seaborn) (2023.3.post1)\n",
            "Requirement already satisfied: joblib>=0.11 in /usr/local/lib/python3.10/dist-packages (from pynndescent>=0.5->umap-learn) (1.3.2)\n",
            "Requirement already satisfied: threadpoolctl>=2.0.0 in /usr/local/lib/python3.10/dist-packages (from scikit-learn>=0.22->umap-learn) (3.2.0)\n",
            "Requirement already satisfied: google-auth<3,>=1.6.3 in /usr/local/lib/python3.10/dist-packages (from tensorboard<2.16,>=2.15->tensorflow) (2.17.3)\n",
            "Requirement already satisfied: google-auth-oauthlib<2,>=0.5 in /usr/local/lib/python3.10/dist-packages (from tensorboard<2.16,>=2.15->tensorflow) (1.2.0)\n",
            "Requirement already satisfied: markdown>=2.6.8 in /usr/local/lib/python3.10/dist-packages (from tensorboard<2.16,>=2.15->tensorflow) (3.5.1)\n",
            "Requirement already satisfied: requests<3,>=2.21.0 in /usr/local/lib/python3.10/dist-packages (from tensorboard<2.16,>=2.15->tensorflow) (2.31.0)\n",
            "Requirement already satisfied: tensorboard-data-server<0.8.0,>=0.7.0 in /usr/local/lib/python3.10/dist-packages (from tensorboard<2.16,>=2.15->tensorflow) (0.7.2)\n",
            "Requirement already satisfied: werkzeug>=1.0.1 in /usr/local/lib/python3.10/dist-packages (from tensorboard<2.16,>=2.15->tensorflow) (3.0.1)\n",
            "Requirement already satisfied: cachetools<6.0,>=2.0.0 in /usr/local/lib/python3.10/dist-packages (from google-auth<3,>=1.6.3->tensorboard<2.16,>=2.15->tensorflow) (5.3.2)\n",
            "Requirement already satisfied: pyasn1-modules>=0.2.1 in /usr/local/lib/python3.10/dist-packages (from google-auth<3,>=1.6.3->tensorboard<2.16,>=2.15->tensorflow) (0.3.0)\n",
            "Requirement already satisfied: rsa<5,>=3.1.4 in /usr/local/lib/python3.10/dist-packages (from google-auth<3,>=1.6.3->tensorboard<2.16,>=2.15->tensorflow) (4.9)\n",
            "Requirement already satisfied: requests-oauthlib>=0.7.0 in /usr/local/lib/python3.10/dist-packages (from google-auth-oauthlib<2,>=0.5->tensorboard<2.16,>=2.15->tensorflow) (1.3.1)\n",
            "Requirement already satisfied: charset-normalizer<4,>=2 in /usr/local/lib/python3.10/dist-packages (from requests<3,>=2.21.0->tensorboard<2.16,>=2.15->tensorflow) (3.3.2)\n",
            "Requirement already satisfied: idna<4,>=2.5 in /usr/local/lib/python3.10/dist-packages (from requests<3,>=2.21.0->tensorboard<2.16,>=2.15->tensorflow) (3.6)\n",
            "Requirement already satisfied: urllib3<3,>=1.21.1 in /usr/local/lib/python3.10/dist-packages (from requests<3,>=2.21.0->tensorboard<2.16,>=2.15->tensorflow) (2.0.7)\n",
            "Requirement already satisfied: certifi>=2017.4.17 in /usr/local/lib/python3.10/dist-packages (from requests<3,>=2.21.0->tensorboard<2.16,>=2.15->tensorflow) (2023.11.17)\n",
            "Requirement already satisfied: MarkupSafe>=2.1.1 in /usr/local/lib/python3.10/dist-packages (from werkzeug>=1.0.1->tensorboard<2.16,>=2.15->tensorflow) (2.1.3)\n",
            "Requirement already satisfied: pyasn1<0.6.0,>=0.4.6 in /usr/local/lib/python3.10/dist-packages (from pyasn1-modules>=0.2.1->google-auth<3,>=1.6.3->tensorboard<2.16,>=2.15->tensorflow) (0.5.1)\n",
            "Requirement already satisfied: oauthlib>=3.0.0 in /usr/local/lib/python3.10/dist-packages (from requests-oauthlib>=0.7.0->google-auth-oauthlib<2,>=0.5->tensorboard<2.16,>=2.15->tensorflow) (3.2.2)\n",
            "Requirement already satisfied: torch-scatter in /usr/local/lib/python3.10/dist-packages (2.1.2)\n",
            "Requirement already satisfied: torch-sparse in /usr/local/lib/python3.10/dist-packages (0.6.18)\n",
            "Requirement already satisfied: torch-cluster in /usr/local/lib/python3.10/dist-packages (1.6.3)\n",
            "Requirement already satisfied: torch-spline-conv in /usr/local/lib/python3.10/dist-packages (1.2.2)\n",
            "Requirement already satisfied: torch-geometric in /usr/local/lib/python3.10/dist-packages (2.4.0)\n",
            "Requirement already satisfied: scipy in /usr/local/lib/python3.10/dist-packages (from torch-sparse) (1.11.4)\n",
            "Requirement already satisfied: tqdm in /usr/local/lib/python3.10/dist-packages (from torch-geometric) (4.66.1)\n",
            "Requirement already satisfied: numpy in /usr/local/lib/python3.10/dist-packages (from torch-geometric) (1.23.5)\n",
            "Requirement already satisfied: jinja2 in /usr/local/lib/python3.10/dist-packages (from torch-geometric) (3.1.2)\n",
            "Requirement already satisfied: requests in /usr/local/lib/python3.10/dist-packages (from torch-geometric) (2.31.0)\n",
            "Requirement already satisfied: pyparsing in /usr/local/lib/python3.10/dist-packages (from torch-geometric) (3.1.1)\n",
            "Requirement already satisfied: scikit-learn in /usr/local/lib/python3.10/dist-packages (from torch-geometric) (1.2.2)\n",
            "Requirement already satisfied: psutil>=5.8.0 in /usr/local/lib/python3.10/dist-packages (from torch-geometric) (5.9.5)\n",
            "Requirement already satisfied: MarkupSafe>=2.0 in /usr/local/lib/python3.10/dist-packages (from jinja2->torch-geometric) (2.1.3)\n",
            "Requirement already satisfied: charset-normalizer<4,>=2 in /usr/local/lib/python3.10/dist-packages (from requests->torch-geometric) (3.3.2)\n",
            "Requirement already satisfied: idna<4,>=2.5 in /usr/local/lib/python3.10/dist-packages (from requests->torch-geometric) (3.6)\n",
            "Requirement already satisfied: urllib3<3,>=1.21.1 in /usr/local/lib/python3.10/dist-packages (from requests->torch-geometric) (2.0.7)\n",
            "Requirement already satisfied: certifi>=2017.4.17 in /usr/local/lib/python3.10/dist-packages (from requests->torch-geometric) (2023.11.17)\n",
            "Requirement already satisfied: joblib>=1.1.1 in /usr/local/lib/python3.10/dist-packages (from scikit-learn->torch-geometric) (1.3.2)\n",
            "Requirement already satisfied: threadpoolctl>=2.0.0 in /usr/local/lib/python3.10/dist-packages (from scikit-learn->torch-geometric) (3.2.0)\n"
          ]
        }
      ]
    },
    {
      "cell_type": "code",
      "source": [
        "from google.colab import drive\n",
        "drive.mount('/content/drive')"
      ],
      "metadata": {
        "id": "Rq7yCQ8vGDDF",
        "colab": {
          "base_uri": "https://localhost:8080/"
        },
        "outputId": "7d029260-6783-4d4d-e9fd-37d701c47718"
      },
      "execution_count": null,
      "outputs": [
        {
          "output_type": "stream",
          "name": "stdout",
          "text": [
            "Drive already mounted at /content/drive; to attempt to forcibly remount, call drive.mount(\"/content/drive\", force_remount=True).\n"
          ]
        }
      ]
    },
    {
      "cell_type": "markdown",
      "source": [
        "# Libaries"
      ],
      "metadata": {
        "id": "jdtYn5M-zRRg"
      }
    },
    {
      "cell_type": "code",
      "execution_count": null,
      "metadata": {
        "id": "3igrr9cUzNkW"
      },
      "outputs": [],
      "source": [
        "from keras.optimizers import Adam\n",
        "from keras.models import Sequential, load_model, Model\n",
        "from keras.callbacks import EarlyStopping\n",
        "from keras.layers import Dense\n",
        "from sklearn.preprocessing import LabelBinarizer\n",
        "import umap\n",
        "import matplotlib.pyplot as plt\n",
        "import seaborn as sns\n",
        "import pandas as pd\n",
        "import json\n",
        "import numpy as np\n",
        "from sklearn.preprocessing import LabelBinarizer\n",
        "import torch\n",
        "import torch.nn as nn\n",
        "from torch_geometric.data import Data, DataLoader\n",
        "from torch_geometric.nn import GCNConv\n",
        "import torch.optim as optim\n",
        "from torch_geometric.nn import global_mean_pool\n",
        "import pandas as pd\n",
        "import json\n",
        "import numpy as np\n",
        "import torch\n",
        "from torch_geometric.data import Data\n",
        "from torch_geometric.nn import GCNConv\n",
        "import torch.nn.functional as F\n",
        "from sklearn.preprocessing import LabelEncoder\n",
        "import matplotlib.pyplot as plt\n",
        "from sklearn.metrics import confusion_matrix\n",
        "import seaborn as sns"
      ]
    },
    {
      "cell_type": "markdown",
      "source": [
        "# Data"
      ],
      "metadata": {
        "id": "izll4s2nB3Xb"
      }
    },
    {
      "cell_type": "code",
      "source": [
        "\n",
        "\n",
        "# Read in edges and features\n",
        "edges = pd.read_csv('git_edges.csv')[['node_1', 'node_2']]\n",
        "edges.columns = ['source', 'target']\n",
        "with open('git_features.json') as json_data:\n",
        "    features = json.load(json_data)\n",
        "node_features = pd.DataFrame.from_dict(features, orient='index')\n",
        "\n",
        "# Read and prepare target data\n",
        "train_targets = pd.read_csv('train.csv')\n",
        "val_targets = pd.read_csv('Val.csv')\n",
        "test_targets = pd.read_csv('test.csv')\n"
      ],
      "metadata": {
        "id": "zlsDUcTRluLv"
      },
      "execution_count": null,
      "outputs": []
    },
    {
      "cell_type": "code",
      "source": [
        "# Concatenate all node labels and find unique labels\n",
        "all_nodes = pd.concat([edges['source'], edges['target']]).unique()\n",
        "\n",
        "# Create a mapping from node labels to integers\n",
        "node_mapping = {node: idx for idx, node in enumerate(all_nodes)}\n",
        "\n",
        "# Map the source and target nodes to integers\n",
        "edges['source'] = edges['source'].map(node_mapping)\n",
        "edges['target'] = edges['target'].map(node_mapping)\n"
      ],
      "metadata": {
        "id": "AKKkNZ4Ulw8P"
      },
      "execution_count": null,
      "outputs": []
    },
    {
      "cell_type": "code",
      "source": [
        "# Convert edges to tensor\n",
        "edge_index = torch.tensor(edges.values.T, dtype=torch.long)\n",
        "\n",
        "# Reindex node_features according to the node_mapping\n",
        "node_features_reordered = pd.DataFrame(index=all_nodes)\n",
        "node_features_reordered = node_features_reordered.join(node_features).fillna(0)\n",
        "\n",
        "# Convert node features to tensor\n",
        "x = torch.tensor(node_features_reordered.values, dtype=torch.float)\n"
      ],
      "metadata": {
        "id": "xjjtGEZ5l2TS"
      },
      "execution_count": null,
      "outputs": []
    },
    {
      "cell_type": "code",
      "source": [
        "\n",
        "\n",
        "# Assuming the second column is the label column\n",
        "label_encoder = LabelEncoder()\n",
        "labels_encoded = label_encoder.fit_transform(train_targets.iloc[:, 1])\n",
        "\n",
        "# Number of unique classes\n",
        "num_classes = len(label_encoder.classes_)\n",
        "\n",
        "# Convert to tensor\n",
        "y_tensor = torch.tensor(labels_encoded, dtype=torch.long)\n",
        "\n",
        "# Rest of your model building and training code...\n",
        "\n"
      ],
      "metadata": {
        "id": "_RHrFJqfl3L4"
      },
      "execution_count": null,
      "outputs": []
    },
    {
      "cell_type": "code",
      "source": [
        "class GCN(torch.nn.Module):\n",
        "    def __init__(self, num_features, num_classes):\n",
        "        super(GCN, self).__init__()\n",
        "        self.conv1 = GCNConv(num_features, 16)\n",
        "        self.conv2 = GCNConv(16, num_classes)\n",
        "\n",
        "    def forward(self, data):\n",
        "        x, edge_index = data.x, data.edge_index\n",
        "        x = F.relu(self.conv1(x, edge_index))\n",
        "        x = F.dropout(x, training=self.training)\n",
        "        x = self.conv2(x, edge_index)\n",
        "        return F.log_softmax(x, dim=1)\n",
        "\n",
        "model = GCN(num_features=x.shape[1], num_classes=num_classes)\n"
      ],
      "metadata": {
        "id": "JSckUl8pl5l-"
      },
      "execution_count": null,
      "outputs": []
    },
    {
      "cell_type": "code",
      "source": [
        "\n",
        "\n",
        "# Placeholder data (replac0e with your actual data)\n",
        "x = torch.randn(21860, 64)  # Node features (21860 nodes, 64 features)\n",
        "edge_index = torch.randint(0, 21860, (2, 30000))  # Edge connectivity information\n",
        "y = torch.randint(0, 11, (21860,))  # Integer labels (21860 nodes, 11 classes)\n",
        "\n",
        "# Determine the number of nodes and classes\n",
        "num_nodes = x.shape[0]\n",
        "num_classes = y.max().item() + 1\n",
        "\n",
        "# Create masks for train, validation, and test sets\n",
        "train_mask = torch.zeros(num_nodes, dtype=torch.bool).scatter_(0, torch.randperm(num_nodes)[:int(num_nodes * 0.8)], True)\n",
        "val_mask = torch.zeros(num_nodes, dtype=torch.bool).scatter_(0, torch.randperm(num_nodes)[:int(num_nodes * 0.1)], True)\n",
        "test_mask = torch.zeros(num_nodes, dtype=torch.bool).scatter_(0, torch.randperm(num_nodes)[:int(num_nodes * 0.1)], True)\n",
        "\n",
        "# Define your GNN model\n",
        "class YourModel(nn.Module):\n",
        "    def __init__(self, num_features, num_classes):\n",
        "        super(YourModel, self).__init__()\n",
        "        self.conv1 = GCNConv(num_features, 32)\n",
        "        self.conv2 = GCNConv(32, 16)\n",
        "        self.fc = nn.Linear(16, num_classes)\n",
        "\n",
        "    def forward(self, x, edge_index, batch=None):\n",
        "        x = self.conv1(x, edge_index)\n",
        "        x = torch.relu(x)\n",
        "        x = self.conv2(x, edge_index)\n",
        "        x = torch.relu(x)\n",
        "        x = self.fc(x)  # Do not aggregate across nodes here\n",
        "        return x\n",
        "\n",
        "# Initialize your model\n",
        "model = YourModel(num_features=x.shape[1], num_classes=num_classes)\n",
        "\n",
        "# Define your optimizer and loss function\n",
        "optimizer = optim.Adam(model.parameters(), lr=0.01)\n",
        "criterion = nn.CrossEntropyLoss()\n",
        "\n",
        "# Create DataLoader\n",
        "data = Data(x=x, edge_index=edge_index, y=y)\n",
        "batch_size = 64\n",
        "train_loader = DataLoader([data], batch_size=batch_size, shuffle=True)\n",
        "\n",
        "def to_one_hot(labels, num_classes):\n",
        "    return torch.nn.functional.one_hot(labels, num_classes).to(torch.float32)\n",
        "\n",
        "# Convert labels to one-hot encoding\n",
        "y_one_hot = to_one_hot(y, num_classes)\n",
        "\n",
        "\n",
        "def train():\n",
        "    model.train()\n",
        "    total_loss = 0\n",
        "\n",
        "    for batch in train_loader:\n",
        "        optimizer.zero_grad()\n",
        "\n",
        "        # Forward pass\n",
        "        out = model(batch.x, batch.edge_index, batch.batch)\n",
        "\n",
        "        # Prepare target labels for the current batch (one-hot encoded)\n",
        "        batch_labels = y_one_hot[batch.batch]  # Extract labels for nodes in the batch\n",
        "\n",
        "        # Compute loss\n",
        "        loss = F.mse_loss(out, batch_labels)\n",
        "\n",
        "        # Backward pass and optimize\n",
        "        loss.backward()\n",
        "        optimizer.step()\n",
        "\n",
        "        total_loss += loss.item()\n",
        "    return total_loss / len(train_loader)\n",
        "\n",
        "# For validation set\n",
        "val_data = Data(x=x, edge_index=edge_index, y=y, mask=val_mask)  # Ensure mask is included\n",
        "val_loader = DataLoader([val_data], batch_size=batch_size, shuffle=False)\n",
        "\n",
        "# For test set\n",
        "test_data = Data(x=x, edge_index=edge_index, y=y, mask=test_mask)  # Ensure mask is included\n",
        "test_loader = DataLoader([test_data], batch_size=batch_size, shuffle=False)\n",
        "\n",
        "\n",
        "def evaluate(loader):\n",
        "    model.eval()\n",
        "    total_correct = 0\n",
        "    total_nodes = 0\n",
        "\n",
        "    for batch in loader:\n",
        "        logits = model(batch.x, batch.edge_index, batch.batch)\n",
        "        pred = logits.max(1)[1]\n",
        "\n",
        "        # Only consider nodes that are part of the mask\n",
        "        batch_mask = batch.mask\n",
        "        correct_preds = pred[batch_mask].eq(batch.y[batch_mask]).sum().item()\n",
        "\n",
        "        total_correct += correct_preds\n",
        "        total_nodes += batch_mask.sum().item()\n",
        "\n",
        "    return total_correct / total_nodes if total_nodes > 0 else 0\n",
        "\n",
        "\n",
        "criterion = nn.MSELoss()\n",
        "\n",
        "# Lists to store metrics\n",
        "train_losses = []\n",
        "val_accuracies = []\n",
        "\n",
        "for epoch in range(200):\n",
        "    train_loss = train()\n",
        "    train_losses.append(train_loss)\n",
        "\n",
        "    val_acc = evaluate(val_loader)  # Use the validation DataLoader\n",
        "    val_accuracies.append(val_acc)\n",
        "\n",
        "    print(f'Epoch {epoch + 1}, Loss: {train_loss:.4f}, Validation Accuracy: {val_acc:.4f}')\n",
        "\n",
        "# Evaluate on test set\n",
        "test_acc = evaluate(test_loader)  # Use the test DataLoader\n",
        "print(f'Test Accuracy: {test_acc:.4f}')\n"
      ],
      "metadata": {
        "id": "U2u6A0Exl7jD"
      },
      "execution_count": null,
      "outputs": []
    },
    {
      "cell_type": "code",
      "source": [
        "def evaluate_and_collect(loader):\n",
        "    model.eval()\n",
        "    all_preds = []\n",
        "    all_labels = []\n",
        "\n",
        "    for batch in loader:\n",
        "        logits = model(batch.x, batch.edge_index, batch.batch)\n",
        "        pred = logits.max(1)[1]\n",
        "\n",
        "        batch_mask = batch.mask\n",
        "        all_preds.extend(pred[batch_mask].tolist())\n",
        "        all_labels.extend(batch.y[batch_mask].tolist())\n",
        "\n",
        "    return all_preds, all_labels\n",
        "\n",
        "\n",
        "\n",
        "# Evaluate and collect predictions and labels\n",
        "val_preds, val_labels = evaluate_and_collect(val_loader)\n",
        "\n",
        "# Compute confusion matrix\n",
        "conf_matrix = confusion_matrix(val_labels, val_preds)\n",
        "\n",
        "# Plot confusion matrix\n",
        "plt.figure(figsize=(10, 8))\n",
        "sns.heatmap(conf_matrix, annot=True, fmt='g')\n",
        "plt.xlabel('Predicted Labels')\n",
        "plt.ylabel('True Labels')\n",
        "plt.title('Confusion Matrix')\n",
        "plt.show()\n",
        "\n",
        "\n"
      ],
      "metadata": {
        "colab": {
          "base_uri": "https://localhost:8080/",
          "height": 718
        },
        "id": "hlo1GVfZPE2i",
        "outputId": "260a7383-bafa-4ccc-f900-74f70ef9ba86"
      },
      "execution_count": null,
      "outputs": [
        {
          "output_type": "display_data",
          "data": {
            "text/plain": [
              "<Figure size 1000x800 with 2 Axes>"
            ],
            "image/png": "[encoded data removed]"
          },
          "metadata": {}
        }
      ]
    },
    {
      "cell_type": "code",
      "source": [
        "plt.figure(figsize=(12, 6))\n",
        "plt.scatter(epochs, train_losses, color='red')\n",
        "plt.title('Training Loss per Epoch')\n",
        "plt.xlabel('Epochs')\n",
        "plt.ylabel('Loss')\n",
        "plt.show()"
      ],
      "metadata": {
        "colab": {
          "base_uri": "https://localhost:8080/",
          "height": 564
        },
        "id": "vfJ9PEEmRqdF",
        "outputId": "f3f41f69-890b-4323-8b95-09206538fa57"
      },
      "execution_count": null,
      "outputs": [
        {
          "output_type": "display_data",
          "data": {
            "text/plain": [
              "<Figure size 1200x600 with 1 Axes>"
            ],
            "image/png": "[encoded data removed]"
          },
          "metadata": {}
        }
      ]
    },
    {
      "cell_type": "code",
      "source": [
        "plt.figure(figsize=(12, 6))\n",
        "plt.bar(epochs, train_losses, color='green')\n",
        "plt.title('Training Loss per Epoch')\n",
        "plt.xlabel('Epochs')\n",
        "plt.ylabel('Loss')\n",
        "plt.show()"
      ],
      "metadata": {
        "colab": {
          "base_uri": "https://localhost:8080/",
          "height": 564
        },
        "id": "bgLLa4UXP3ub",
        "outputId": "491863bd-5c0c-4502-c9fd-68a5e2fb8572"
      },
      "execution_count": null,
      "outputs": [
        {
          "output_type": "display_data",
          "data": {
            "text/plain": [
              "<Figure size 1200x600 with 1 Axes>"
            ],
            "image/png": "[encoded data removed]"
          },
          "metadata": {}
        }
      ]
    },
    {
      "cell_type": "markdown",
      "source": [
        "# GCN Model Build Part"
      ],
      "metadata": {
        "id": "GmuTNe1H0XJT"
      }
    },
    {
      "cell_type": "markdown",
      "source": [
        "*Hyper-Parameters for the GCN Model*"
      ],
      "metadata": {
        "id": "o1vS6TWg1hF1"
      }
    },
    {
      "cell_type": "code",
      "source": [
        "# Initialise GCN parameters\n",
        "kernel_initializer=\"glorot_uniform\"\n",
        "bias = True\n",
        "bias_initializer=\"zeros\"\n",
        "n_layers = 2\n",
        "layer_sizes = [32, 32]\n",
        "dropout = 0.5\n",
        "n_features = features_input.shape[2]\n",
        "n_nodes = features_input.shape[1]"
      ],
      "metadata": {
        "id": "zoXMMl-x0WNb"
      },
      "execution_count": null,
      "outputs": []
    },
    {
      "cell_type": "markdown",
      "source": [
        "*Input Layers*"
      ],
      "metadata": {
        "id": "bCIqkneR4KY1"
      }
    },
    {
      "cell_type": "code",
      "source": [
        "# Initialise input layers\n",
        "x_features = Input(batch_shape=(1, n_nodes, n_features))\n",
        "x_indices = Input(batch_shape=(1, None), dtype=\"int32\")\n",
        "x_adjacency = Input(batch_shape=(1, n_nodes, n_nodes))\n",
        "x_inp = [x_features, x_indices, x_adjacency]"
      ],
      "metadata": {
        "id": "0x6DOJN_12ME"
      },
      "execution_count": null,
      "outputs": []
    },
    {
      "cell_type": "markdown",
      "source": [
        "*GCN Model Build*"
      ],
      "metadata": {
        "id": "3ZwGoTPp36Y7"
      }
    },
    {
      "cell_type": "code",
      "source": [
        "# Build the model\n",
        "x = Dropout(0.5)(x_features)\n",
        "x = GraphConvolution(32, activation='relu',\n",
        "                     use_bias=True,\n",
        "                     kernel_initializer=kernel_initializer,\n",
        "                     bias_initializer=bias_initializer)([x, x_adjacency])\n",
        "x = Dropout(0.5)(x)\n",
        "x = GraphConvolution(32, activation='relu',\n",
        "                     use_bias=True,\n",
        "                     kernel_initializer=kernel_initializer,\n",
        "                     bias_initializer=bias_initializer)([x, x_adjacency])\n",
        "\n",
        "x = GatherIndices(batch_dims=1)([x, x_indices])\n",
        "output = Dense(1, activation='relu')(x)\n",
        "\n",
        "model = Model(inputs=[x_features, x_indices, x_adjacency], outputs=output)\n",
        "\n",
        "# Print out the summary\n",
        "model.summary()"
      ],
      "metadata": {
        "id": "51i2qH043fRn"
      },
      "execution_count": null,
      "outputs": []
    },
    {
      "cell_type": "markdown",
      "source": [
        "*Model Fit*"
      ],
      "metadata": {
        "id": "2_3ER_-68UeY"
      }
    },
    {
      "cell_type": "code",
      "source": [
        "# Compile the model\n",
        "model.compile(\n",
        "    optimizer='adam',\n",
        "    loss=losses.binary_crossentropy,\n",
        "    metrics=[\"acc\"],\n",
        ")\n",
        "\n",
        "# Early stopping callback\n",
        "es_callback = EarlyStopping(monitor=\"val_loss\", patience=10, restore_best_weights=True)\n",
        "\n",
        "# Fit the model\n",
        "history = model.fit(\n",
        "    x = [features_input, train_indices, A_input], # 3 inputs - features matrix, train indices, normalised adjacency matrix\n",
        "    y = y_train,\n",
        "    batch_size = 32,\n",
        "    epochs=200,\n",
        "    validation_data=([features_input, val_indices, A_input], y_val),\n",
        "    verbose=1,\n",
        "    shuffle=False,\n",
        "    callbacks=[es_callback],\n",
        ")"
      ],
      "metadata": {
        "id": "Y8_LQ2gC8ILU",
        "outputId": "de069ef8-0d01-433c-ee7e-f09b7d144a4a",
        "colab": {
          "base_uri": "https://localhost:8080/",
          "height": 246
        }
      },
      "execution_count": null,
      "outputs": [
        {
          "output_type": "error",
          "ename": "NameError",
          "evalue": "name 'model' is not defined",
          "traceback": [
            "\u001b[0;31m---------------------------------------------------------------------------\u001b[0m",
            "\u001b[0;31mNameError\u001b[0m                                 Traceback (most recent call last)",
            "\u001b[0;32m<ipython-input-2-1c2ddf7ac0cb>\u001b[0m in \u001b[0;36m<cell line: 2>\u001b[0;34m()\u001b[0m\n\u001b[1;32m      1\u001b[0m \u001b[0;31m# Compile the model\u001b[0m\u001b[0;34m\u001b[0m\u001b[0;34m\u001b[0m\u001b[0m\n\u001b[0;32m----> 2\u001b[0;31m model.compile(\n\u001b[0m\u001b[1;32m      3\u001b[0m     \u001b[0moptimizer\u001b[0m\u001b[0;34m=\u001b[0m\u001b[0;34m'adam'\u001b[0m\u001b[0;34m,\u001b[0m\u001b[0;34m\u001b[0m\u001b[0;34m\u001b[0m\u001b[0m\n\u001b[1;32m      4\u001b[0m     \u001b[0mloss\u001b[0m\u001b[0;34m=\u001b[0m\u001b[0mlosses\u001b[0m\u001b[0;34m.\u001b[0m\u001b[0mbinary_crossentropy\u001b[0m\u001b[0;34m,\u001b[0m\u001b[0;34m\u001b[0m\u001b[0;34m\u001b[0m\u001b[0m\n\u001b[1;32m      5\u001b[0m     \u001b[0mmetrics\u001b[0m\u001b[0;34m=\u001b[0m\u001b[0;34m[\u001b[0m\u001b[0;34m\"acc\"\u001b[0m\u001b[0;34m]\u001b[0m\u001b[0;34m,\u001b[0m\u001b[0;34m\u001b[0m\u001b[0;34m\u001b[0m\u001b[0m\n",
            "\u001b[0;31mNameError\u001b[0m: name 'model' is not defined"
          ]
        }
      ]
    },
    {
      "cell_type": "markdown",
      "source": [
        "*Model Evaluation*"
      ],
      "metadata": {
        "id": "0tbNpoKK_OJZ"
      }
    },
    {
      "cell_type": "code",
      "source": [
        "# Function to evaluate\n",
        "def evaluate_preds(true, pred):\n",
        "    auc = roc_auc_score(true, pred)\n",
        "    pr = average_precision_score(true, pred)\n",
        "    bin_pred = [1 if p > 0.5 else 0 for p in pred]\n",
        "    f_score = f1_score(true, bin_pred)\n",
        "    print('ROC AUC:', auc)\n",
        "    print('PR AUC:', pr)\n",
        "    print('F1 score:', f_score)\n",
        "    print(confusion_matrix(true, bin_pred, normalize='true'))\n",
        "\n",
        "    return auc, pr, f_score\n",
        "\n",
        "auc, pr, f_score = evaluate_preds(test_targets.ravel(),test_preds[0].ravel())"
      ],
      "metadata": {
        "id": "wPPoOcRQ_SoZ",
        "outputId": "89211dd7-5b35-4591-80cc-7ac6a990b346",
        "colab": {
          "base_uri": "https://localhost:8080/",
          "height": 211
        }
      },
      "execution_count": null,
      "outputs": [
        {
          "output_type": "error",
          "ename": "NameError",
          "evalue": "name 'test_targets' is not defined",
          "traceback": [
            "\u001b[0;31m---------------------------------------------------------------------------\u001b[0m",
            "\u001b[0;31mNameError\u001b[0m                                 Traceback (most recent call last)",
            "\u001b[0;32m<ipython-input-1-2f414ca64300>\u001b[0m in \u001b[0;36m<cell line: 14>\u001b[0;34m()\u001b[0m\n\u001b[1;32m     12\u001b[0m     \u001b[0;32mreturn\u001b[0m \u001b[0mauc\u001b[0m\u001b[0;34m,\u001b[0m \u001b[0mpr\u001b[0m\u001b[0;34m,\u001b[0m \u001b[0mf_score\u001b[0m\u001b[0;34m\u001b[0m\u001b[0;34m\u001b[0m\u001b[0m\n\u001b[1;32m     13\u001b[0m \u001b[0;34m\u001b[0m\u001b[0m\n\u001b[0;32m---> 14\u001b[0;31m \u001b[0mauc\u001b[0m\u001b[0;34m,\u001b[0m \u001b[0mpr\u001b[0m\u001b[0;34m,\u001b[0m \u001b[0mf_score\u001b[0m \u001b[0;34m=\u001b[0m \u001b[0mevaluate_preds\u001b[0m\u001b[0;34m(\u001b[0m\u001b[0mtest_targets\u001b[0m\u001b[0;34m.\u001b[0m\u001b[0mravel\u001b[0m\u001b[0;34m(\u001b[0m\u001b[0;34m)\u001b[0m\u001b[0;34m,\u001b[0m\u001b[0mtest_preds\u001b[0m\u001b[0;34m[\u001b[0m\u001b[0;36m0\u001b[0m\u001b[0;34m]\u001b[0m\u001b[0;34m.\u001b[0m\u001b[0mravel\u001b[0m\u001b[0;34m(\u001b[0m\u001b[0;34m)\u001b[0m\u001b[0;34m)\u001b[0m\u001b[0;34m\u001b[0m\u001b[0;34m\u001b[0m\u001b[0m\n\u001b[0m",
            "\u001b[0;31mNameError\u001b[0m: name 'test_targets' is not defined"
          ]
        }
      ]
    },
    {
      "cell_type": "markdown",
      "source": [
        "*Plot Of the Model*"
      ],
      "metadata": {
        "id": "7_Jc72DoMshv"
      }
    },
    {
      "cell_type": "code",
      "source": [
        "# Define the embedding model\n",
        "embedding_model = Model(inputs=x_inp, outputs=model.layers[-2].output)\n",
        "\n",
        "# Get indices of all nodes\n",
        "all_indices = get_node_indices(G, targets.index)\n",
        "\n",
        "#Get embeddings\n",
        "emb = embedding_model.predict([features_input, all_indices, A_input])\n",
        "print(emb.shape)\n",
        "# Shape: (1, 37700, 32)\n",
        "\n",
        "# UMAP for visualisation\n",
        "u = umap.UMAP(random_state=42)\n",
        "umap_embs = u.fit_transform(emb[0])\n",
        "\n",
        "#Plot the embeddingsembe\n",
        "plt.figure(figsize=(20,10))\n",
        "ax = sns.scatterplot(x = umap_embs[:, 0], y = umap_embs[:, 1], hue = targets['ml_target'])"
      ],
      "metadata": {
        "id": "gZAy2y_UMy0A"
      },
      "execution_count": null,
      "outputs": []
    }
  ]
}
